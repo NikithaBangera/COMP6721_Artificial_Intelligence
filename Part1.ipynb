{
  "nbformat": 4,
  "nbformat_minor": 0,
  "metadata": {
    "colab": {
      "name": "Part1.ipynb",
      "provenance": [],
      "collapsed_sections": [],
      "toc_visible": true,
      "include_colab_link": true
    },
    "kernelspec": {
      "name": "python3",
      "display_name": "Python 3"
    },
    "widgets": {
      "application/vnd.jupyter.widget-state+json": {
        "139f607a92aa4d01b2df97a6e0d4c040": {
          "model_module": "@jupyter-widgets/controls",
          "model_name": "HBoxModel",
          "state": {
            "_view_name": "HBoxView",
            "_dom_classes": [],
            "_model_name": "HBoxModel",
            "_view_module": "@jupyter-widgets/controls",
            "_model_module_version": "1.5.0",
            "_view_count": null,
            "_view_module_version": "1.5.0",
            "box_style": "",
            "layout": "IPY_MODEL_cffb2d08b20e46889f07885918bd4e0f",
            "_model_module": "@jupyter-widgets/controls",
            "children": [
              "IPY_MODEL_4a41549759784b03904db0200cee1c1f",
              "IPY_MODEL_8e8c4b2058434cb58b9c68ddd243fd3c"
            ]
          }
        },
        "cffb2d08b20e46889f07885918bd4e0f": {
          "model_module": "@jupyter-widgets/base",
          "model_name": "LayoutModel",
          "state": {
            "_view_name": "LayoutView",
            "grid_template_rows": null,
            "right": null,
            "justify_content": null,
            "_view_module": "@jupyter-widgets/base",
            "overflow": null,
            "_model_module_version": "1.2.0",
            "_view_count": null,
            "flex_flow": null,
            "width": null,
            "min_width": null,
            "border": null,
            "align_items": null,
            "bottom": null,
            "_model_module": "@jupyter-widgets/base",
            "top": null,
            "grid_column": null,
            "overflow_y": null,
            "overflow_x": null,
            "grid_auto_flow": null,
            "grid_area": null,
            "grid_template_columns": null,
            "flex": null,
            "_model_name": "LayoutModel",
            "justify_items": null,
            "grid_row": null,
            "max_height": null,
            "align_content": null,
            "visibility": null,
            "align_self": null,
            "height": null,
            "min_height": null,
            "padding": null,
            "grid_auto_rows": null,
            "grid_gap": null,
            "max_width": null,
            "order": null,
            "_view_module_version": "1.2.0",
            "grid_template_areas": null,
            "object_position": null,
            "object_fit": null,
            "grid_auto_columns": null,
            "margin": null,
            "display": null,
            "left": null
          }
        },
        "4a41549759784b03904db0200cee1c1f": {
          "model_module": "@jupyter-widgets/controls",
          "model_name": "FloatProgressModel",
          "state": {
            "_view_name": "ProgressView",
            "style": "IPY_MODEL_fff19bd5aa14454fac58cd62b34ca8db",
            "_dom_classes": [],
            "description": "Training: 100%",
            "_model_name": "FloatProgressModel",
            "bar_style": "success",
            "max": 2,
            "_view_module": "@jupyter-widgets/controls",
            "_model_module_version": "1.5.0",
            "value": 2,
            "_view_count": null,
            "_view_module_version": "1.5.0",
            "orientation": "horizontal",
            "min": 0,
            "description_tooltip": null,
            "_model_module": "@jupyter-widgets/controls",
            "layout": "IPY_MODEL_d0ddbd0b882d49a587aeebf01407654f"
          }
        },
        "8e8c4b2058434cb58b9c68ddd243fd3c": {
          "model_module": "@jupyter-widgets/controls",
          "model_name": "HTMLModel",
          "state": {
            "_view_name": "HTMLView",
            "style": "IPY_MODEL_156b7845df5e47069218a05c970a41bd",
            "_dom_classes": [],
            "description": "",
            "_model_name": "HTMLModel",
            "placeholder": "​",
            "_view_module": "@jupyter-widgets/controls",
            "_model_module_version": "1.5.0",
            "value": " 2/2 [01:58&lt;00:00, 59.40s/it]",
            "_view_count": null,
            "_view_module_version": "1.5.0",
            "description_tooltip": null,
            "_model_module": "@jupyter-widgets/controls",
            "layout": "IPY_MODEL_5e08d28b7a90415abf2411ab9e8ea565"
          }
        },
        "fff19bd5aa14454fac58cd62b34ca8db": {
          "model_module": "@jupyter-widgets/controls",
          "model_name": "ProgressStyleModel",
          "state": {
            "_view_name": "StyleView",
            "_model_name": "ProgressStyleModel",
            "description_width": "initial",
            "_view_module": "@jupyter-widgets/base",
            "_model_module_version": "1.5.0",
            "_view_count": null,
            "_view_module_version": "1.2.0",
            "bar_color": null,
            "_model_module": "@jupyter-widgets/controls"
          }
        },
        "d0ddbd0b882d49a587aeebf01407654f": {
          "model_module": "@jupyter-widgets/base",
          "model_name": "LayoutModel",
          "state": {
            "_view_name": "LayoutView",
            "grid_template_rows": null,
            "right": null,
            "justify_content": null,
            "_view_module": "@jupyter-widgets/base",
            "overflow": null,
            "_model_module_version": "1.2.0",
            "_view_count": null,
            "flex_flow": null,
            "width": null,
            "min_width": null,
            "border": null,
            "align_items": null,
            "bottom": null,
            "_model_module": "@jupyter-widgets/base",
            "top": null,
            "grid_column": null,
            "overflow_y": null,
            "overflow_x": null,
            "grid_auto_flow": null,
            "grid_area": null,
            "grid_template_columns": null,
            "flex": null,
            "_model_name": "LayoutModel",
            "justify_items": null,
            "grid_row": null,
            "max_height": null,
            "align_content": null,
            "visibility": null,
            "align_self": null,
            "height": null,
            "min_height": null,
            "padding": null,
            "grid_auto_rows": null,
            "grid_gap": null,
            "max_width": null,
            "order": null,
            "_view_module_version": "1.2.0",
            "grid_template_areas": null,
            "object_position": null,
            "object_fit": null,
            "grid_auto_columns": null,
            "margin": null,
            "display": null,
            "left": null
          }
        },
        "156b7845df5e47069218a05c970a41bd": {
          "model_module": "@jupyter-widgets/controls",
          "model_name": "DescriptionStyleModel",
          "state": {
            "_view_name": "StyleView",
            "_model_name": "DescriptionStyleModel",
            "description_width": "",
            "_view_module": "@jupyter-widgets/base",
            "_model_module_version": "1.5.0",
            "_view_count": null,
            "_view_module_version": "1.2.0",
            "_model_module": "@jupyter-widgets/controls"
          }
        },
        "5e08d28b7a90415abf2411ab9e8ea565": {
          "model_module": "@jupyter-widgets/base",
          "model_name": "LayoutModel",
          "state": {
            "_view_name": "LayoutView",
            "grid_template_rows": null,
            "right": null,
            "justify_content": null,
            "_view_module": "@jupyter-widgets/base",
            "overflow": null,
            "_model_module_version": "1.2.0",
            "_view_count": null,
            "flex_flow": null,
            "width": null,
            "min_width": null,
            "border": null,
            "align_items": null,
            "bottom": null,
            "_model_module": "@jupyter-widgets/base",
            "top": null,
            "grid_column": null,
            "overflow_y": null,
            "overflow_x": null,
            "grid_auto_flow": null,
            "grid_area": null,
            "grid_template_columns": null,
            "flex": null,
            "_model_name": "LayoutModel",
            "justify_items": null,
            "grid_row": null,
            "max_height": null,
            "align_content": null,
            "visibility": null,
            "align_self": null,
            "height": null,
            "min_height": null,
            "padding": null,
            "grid_auto_rows": null,
            "grid_gap": null,
            "max_width": null,
            "order": null,
            "_view_module_version": "1.2.0",
            "grid_template_areas": null,
            "object_position": null,
            "object_fit": null,
            "grid_auto_columns": null,
            "margin": null,
            "display": null,
            "left": null
          }
        }
      }
    }
  },
  "cells": [
    {
      "cell_type": "markdown",
      "metadata": {
        "id": "view-in-github",
        "colab_type": "text"
      },
      "source": [
        "<a href=\"https://colab.research.google.com/github/NikithaBangera/COMP6721_Artificial_Intelligence/blob/main/Part1.ipynb\" target=\"_parent\"><img src=\"https://colab.research.google.com/assets/colab-badge.svg\" alt=\"Open In Colab\"/></a>"
      ]
    },
    {
      "cell_type": "code",
      "metadata": {
        "id": "2hLkDNyfH5fO",
        "outputId": "cfa0df8d-8137-41b8-c743-d5fb3686bc58",
        "colab": {
          "base_uri": "https://localhost:8080/"
        }
      },
      "source": [
        "from google.colab import drive\n",
        "drive.mount('/content/drive')"
      ],
      "execution_count": null,
      "outputs": [
        {
          "output_type": "stream",
          "text": [
            "Mounted at /content/drive\n"
          ],
          "name": "stdout"
        }
      ]
    },
    {
      "cell_type": "code",
      "metadata": {
        "id": "J11ett4QK_nD"
      },
      "source": [
        "#from google.colab import files\n",
        "#uploaded = files.upload()"
      ],
      "execution_count": null,
      "outputs": []
    },
    {
      "cell_type": "markdown",
      "metadata": {
        "id": "bxvSISKL-dJH"
      },
      "source": [
        "# Import block\n"
      ]
    },
    {
      "cell_type": "code",
      "metadata": {
        "id": "rIFcfiPrO4Eu"
      },
      "source": [
        "import torch\n",
        "import torch.optim as optim\n",
        "import torch.nn as nn\n",
        "import torch.nn.functional as F\n",
        "import torchvision.transforms as transforms\n",
        "import torchvision\n",
        "from torchvision import datasets, transforms\n",
        "from torchvision.datasets import ImageFolder, DatasetFolder\n",
        "import os\n",
        "import matplotlib.pyplot as plt\n",
        "from torch.utils.data import DataLoader, random_split\n",
        "import numpy as np\n",
        "from sklearn.metrics import confusion_matrix\n",
        "from sklearn.metrics import classification_report\n",
        "import seaborn as sns\n",
        "\n"
      ],
      "execution_count": null,
      "outputs": []
    },
    {
      "cell_type": "markdown",
      "metadata": {
        "id": "yUDfjKitVQHT"
      },
      "source": [
        "# Dataset Creation"
      ]
    },
    {
      "cell_type": "markdown",
      "metadata": {
        "id": "Lq7qt188k7TM"
      },
      "source": [
        ""
      ]
    },
    {
      "cell_type": "code",
      "metadata": {
        "id": "00r4FM8aSDJp"
      },
      "source": [
        "\n",
        "#for dirname, _, filenames in os.walk('/content/drive/My Drive/AI Dataset/data'):\n",
        "#    for filename in filenames:\n",
        "#        print(os.path.join(dirname, filename))\n",
        "\n",
        "#with_mask_images = os.listdir(\"/content/drive/My Drive/AI Dataset/data/with_mask\")\n",
        "#without_mask_images = os.listdir(\"/content/drive/My Drive/AI Dataset/data/without_mask\")\n",
        "#print(len(with_mask_images))\n",
        "#print(len(without_mask_images))\n",
        "\n",
        "\n",
        "\n",
        "\n",
        "  \n",
        "\n",
        "#dataset = datasets.ImageFolder()\n",
        "#print(type(dataset))\n",
        "\n",
        "#for data in dataset:\n",
        "  #print(\"Data: \", data)\n",
        "\n",
        " "
      ],
      "execution_count": null,
      "outputs": []
    },
    {
      "cell_type": "code",
      "metadata": {
        "id": "-ovmAtHYk7xe"
      },
      "source": [
        "#PATH_TRAIN_MASK = \"/content/drive/My Drive/AI Dataset/data/train/with_mask\"\n",
        "#PATH_VAL_MASK = \"/content/drive/My Drive/AI Dataset/data/val/with_mask\"\n",
        "#PATH_TEST_MASK = \"/content/drive/My Drive/AI Dataset/data/test/with_mask\"\n",
        "\n",
        "#PATH_TRAIN_NO_MASK = \"/content/drive/My Drive/AI Dataset/data/train/without_mask\"\n",
        "#PATH_VAL_NO_MASK = \"/content/drive/My Drive/AI Dataset/data/val/without_mask\"\n",
        "#PATH_TEST_NO_MASK = \"/content/drive/My Drive/AI Dataset/data/test/without_mask\"\n",
        "\n",
        "#PATH_TRAIN = \"/content/drive/My Drive/AI Dataset/data/train\"\n",
        "#PATH_VAL = \"/content/drive/My Drive/AI Dataset/data/val\"\n",
        "#PATH_TEST = \"/content/drive/My Drive/AI Dataset/data/test\"\n",
        "\n",
        "#print(f'With Mask Train: {len(os.listdir(PATH_TRAIN_MASK))}\\n\\\n",
        "#With Mask Validation: {len(os.listdir(PATH_VAL_MASK))}\\n\\\n",
        "#With Mask Test: {len(os.listdir(PATH_TEST_MASK))}\\n\\\n",
        "#With Mask Total: {len(os.listdir(PATH_TRAIN_MASK))+len(os.listdir(PATH_VAL_MASK))+len(os.listdir(PATH_TEST_MASK))}')\n",
        "\n",
        "#print(f'Without Mask Train: {len(os.listdir(PATH_TRAIN_NO_MASK))}\\n\\\n",
        "#Without Mask Validation: {len(os.listdir(PATH_VAL_NO_MASK))}\\n\\\n",
        "#Without Mask Test: {len(os.listdir(PATH_TEST_NO_MASK))}\\n\\\n",
        "#Without Mask Total: {len(os.listdir(PATH_TRAIN_NO_MASK))+len(os.listdir(PATH_VAL_NO_MASK))+len(os.listdir(PATH_TEST_NO_MASK))}')"
      ],
      "execution_count": null,
      "outputs": []
    },
    {
      "cell_type": "code",
      "metadata": {
        "id": "VjswdBm0nRtV"
      },
      "source": [
        "#rows=20 #rows in subplots\n",
        "#cols=5 #columns in subplots\n",
        "\n",
        "#fig,ax = plt.subplots(rows,cols,figsize=(12,100))\n",
        "#r = 0\n",
        "#c = 0\n",
        "#for i in range(rows*cols):\n",
        " #   aa = plt.imread(os.path.join(\"/content/drive/My Drive/AI Dataset/data/without_mask\",without_mask_images[i]))\n",
        "  #  ax[r,c].axis(\"off\")\n",
        "  #  ax[r,c].imshow(aa)\n",
        "  #  c+=1\n",
        "  #  if c == cols:\n",
        "   #     c=0\n",
        "    #    r+=1\n",
        "#plt.show()"
      ],
      "execution_count": null,
      "outputs": []
    },
    {
      "cell_type": "code",
      "metadata": {
        "id": "qan2jCFYn7FO"
      },
      "source": [
        "#rows=20 #rows in subplots\n",
        "#cols=5 #columns in subplots\n",
        "\n",
        "#fig,ax = plt.subplots(rows,cols,figsize=(12,100))\n",
        "#r = 0\n",
        "#c = 0\n",
        "#for i in range(rows*cols):\n",
        " #   aa = plt.imread(os.path.join(\"/content/drive/My Drive/AI Dataset/data/with_mask\",with_mask_images[i]))\n",
        "  #  ax[r,c].axis(\"off\")\n",
        "   # ax[r,c].imshow(aa)\n",
        "    #c+=1\n",
        "    #if c == cols:\n",
        "     #   c=0\n",
        "      #  r+=1\n",
        "#plt.show()"
      ],
      "execution_count": null,
      "outputs": []
    },
    {
      "cell_type": "markdown",
      "metadata": {
        "id": "YPbXkFBB-_N9"
      },
      "source": [
        "# Data Loading"
      ]
    },
    {
      "cell_type": "code",
      "metadata": {
        "id": "a7q5Eo1opSUe",
        "outputId": "149b3dde-54fe-4be2-e659-6c28e7d6313b",
        "colab": {
          "base_uri": "https://localhost:8080/"
        }
      },
      "source": [
        "image_transforms = transforms.Compose(\n",
        "                   [transforms.Resize((32,32)),\n",
        "                    transforms.ToTensor(),\n",
        "                    transforms.Normalize((0.5, 0.5, 0.5), (0.5, 0.5, 0.5))])\n",
        "MAIN = \"/content/drive/My Drive/AI Dataset/data\"\n",
        "dataset = ImageFolder(\n",
        "                      root = MAIN,\n",
        "                      transform = image_transforms\n",
        "                       )\n",
        "# CIFAR 10 DATASET LOADING\n",
        "dataset.class_to_idx\n",
        "\n",
        "dataset.class_to_idx = {'with_mask':1, 'without_mask':0}\n",
        "print(dataset.class_to_idx)\n",
        "idx2class = {v: k for k, v in dataset.class_to_idx.items()}\n",
        "print(idx2class)"
      ],
      "execution_count": null,
      "outputs": [
        {
          "output_type": "stream",
          "text": [
            "{'with_mask': 1, 'without_mask': 0}\n",
            "{1: 'with_mask', 0: 'without_mask'}\n"
          ],
          "name": "stdout"
        }
      ]
    },
    {
      "cell_type": "markdown",
      "metadata": {
        "id": "_rjR-lmtO3zy"
      },
      "source": [
        "# cifar10 Data set Loading\n"
      ]
    },
    {
      "cell_type": "code",
      "metadata": {
        "id": "ryAfQzEnO2SX"
      },
      "source": [
        ""
      ],
      "execution_count": null,
      "outputs": []
    },
    {
      "cell_type": "markdown",
      "metadata": {
        "id": "sGrOF-xB_SKn"
      },
      "source": [
        "# Printing class Distribution"
      ]
    },
    {
      "cell_type": "code",
      "metadata": {
        "id": "YK7c9RA1tmY_"
      },
      "source": [
        "def get_class_distribution(dataset_obj):\n",
        "    count_dict = {k:0 for k,v in dataset_obj.class_to_idx.items()}\n",
        "    \n",
        "    for element in dataset_obj:\n",
        "        y_lbl = element[1]\n",
        "        y_lbl = idx2class[y_lbl]\n",
        "        count_dict[y_lbl] += 1\n",
        "            \n",
        "    return count_dict\n",
        "print(\"Distribution of classes: \\n\", get_class_distribution(dataset))"
      ],
      "execution_count": null,
      "outputs": []
    },
    {
      "cell_type": "markdown",
      "metadata": {
        "id": "QmjXUs6v_f26"
      },
      "source": [
        "# Printing Figures"
      ]
    },
    {
      "cell_type": "code",
      "metadata": {
        "id": "hCAdFexets04"
      },
      "source": [
        "plt.figure(figsize=(15,8))\n",
        "sns.barplot(data = pd.DataFrame.from_dict([get_class_distribution(dataset)]).melt(), x = \"variable\", y=\"value\", hue=\"variable\").set_title('Face Mask Class Distribution')\n",
        "plt.show()"
      ],
      "execution_count": null,
      "outputs": []
    },
    {
      "cell_type": "markdown",
      "metadata": {
        "id": "1YDkIs9s_pt2"
      },
      "source": [
        "# Split Data- Train and Validation set"
      ]
    },
    {
      "cell_type": "code",
      "metadata": {
        "id": "7UWi89bbt2iB"
      },
      "source": [
        "train_dataset, val_dataset = random_split(dataset, (6000, 1553))"
      ],
      "execution_count": null,
      "outputs": []
    },
    {
      "cell_type": "markdown",
      "metadata": {
        "id": "0oAJAz0u_yF3"
      },
      "source": [
        "# Loading Data with the help of DataLoader"
      ]
    },
    {
      "cell_type": "code",
      "metadata": {
        "id": "7SHjWmQNt7Ge"
      },
      "source": [
        "train_loader = DataLoader(dataset=train_dataset, shuffle=True, batch_size=4, num_workers=2)\n",
        "val_loader = DataLoader(dataset=val_dataset, shuffle=False, batch_size=4, num_workers=2)\n",
        "print(\"Length of the train_loader:\", len(train_loader))\n",
        "print(\"Length of the val_loader:\", len(val_loader))"
      ],
      "execution_count": null,
      "outputs": []
    },
    {
      "cell_type": "markdown",
      "metadata": {
        "id": "lfGx3pziACsj"
      },
      "source": [
        "# Display Images"
      ]
    },
    {
      "cell_type": "code",
      "metadata": {
        "id": "2kMwuakRt_l3",
        "outputId": "b421b0ee-93e5-48c9-ff4f-4df7dcad1b82",
        "colab": {
          "base_uri": "https://localhost:8080/",
          "height": 155
        }
      },
      "source": [
        "def imshow(img):\n",
        "    img = img / 2 + 0.5     # unnormalize\n",
        "    npimg = img.numpy()\n",
        "    plt.imshow(np.transpose(npimg, (1, 2, 0)))\n",
        "    plt.show()\n",
        "\n",
        "\n",
        "# get some random training images\n",
        "dataiter = iter(train_loader)\n",
        "images, labels = dataiter.next()\n",
        "\n",
        "# show images\n",
        "imshow(torchvision.utils.make_grid(images))\n",
        "# print labels\n",
        "classes = ('with_mask', 'without_mask')\n",
        "print(' '.join('%5s' % classes[labels[j]] for j in range(4)))"
      ],
      "execution_count": null,
      "outputs": [
        {
          "output_type": "display_data",
          "data": {
            "image/png": "[encoded data removed]",
            "text/plain": [
              "<Figure size 432x288 with 1 Axes>"
            ]
          },
          "metadata": {
            "tags": [],
            "needs_background": "light"
          }
        },
        {
          "output_type": "stream",
          "text": [
            "with_mask without_mask without_mask without_mask\n"
          ],
          "name": "stdout"
        }
      ]
    },
    {
      "cell_type": "markdown",
      "metadata": {
        "id": "_XeDSNTVCHrm"
      },
      "source": [
        "# Architecture"
      ]
    },
    {
      "cell_type": "code",
      "metadata": {
        "id": "88Q5hVeMuEfW"
      },
      "source": [
        "class Net(nn.Module):\n",
        "    def __init__(self):\n",
        "        super(Net, self).__init__()\n",
        "        self.conv1 = nn.Conv2d(3, 6, 5)\n",
        "        self.pool = nn.MaxPool2d(2, 2)\n",
        "        self.conv2 = nn.Conv2d(6, 16, 5)\n",
        "        self.fc1 = nn.Linear(16 * 5 * 5, 120)\n",
        "        self.fc2 = nn.Linear(120, 84)\n",
        "        self.fc3 = nn.Linear(84, 10)\n",
        "\n",
        "    def forward(self, x):\n",
        "        x = self.pool(F.relu(self.conv1(x)))\n",
        "        x = self.pool(F.relu(self.conv2(x)))\n",
        "        x = x.view(-1, 16 * 5 * 5)\n",
        "        x = F.relu(self.fc1(x))\n",
        "        x = F.relu(self.fc2(x))\n",
        "        x = self.fc3(x)\n",
        "        return x\n",
        "\n",
        "net = Net()"
      ],
      "execution_count": null,
      "outputs": []
    },
    {
      "cell_type": "markdown",
      "metadata": {
        "id": "WLRl7WRQCNT0"
      },
      "source": [
        "# Loss and Optimizer\n"
      ]
    },
    {
      "cell_type": "code",
      "metadata": {
        "id": "lkT2i-etuHp5"
      },
      "source": [
        "criterion = nn.CrossEntropyLoss()\n",
        "optimizer = optim.SGD(net.parameters(), lr=0.001, momentum=0.9)"
      ],
      "execution_count": null,
      "outputs": []
    },
    {
      "cell_type": "markdown",
      "metadata": {
        "id": "lnl6xA4-CTwT"
      },
      "source": [
        "# Training Network"
      ]
    },
    {
      "cell_type": "code",
      "metadata": {
        "id": "c31qM2vGuOCL"
      },
      "source": [
        "def images_to_probs(net, images):\n",
        "    output = net(images)\n",
        "    # convert output probabilities to predicted class\n",
        "    _, preds_tensor = torch.max(output, 1)\n",
        "    preds = np.squeeze(preds_tensor.numpy())\n",
        "    return preds, [F.softmax(el, dim=0)[i].item() for i, el in zip(preds, output)]\n",
        "\n",
        "def evaluate(net, dataloader):\n",
        "    correct, total = 0, 0\n",
        "    with torch.no_grad():\n",
        "        net.eval()\n",
        "        for images, labels in dataloader:\n",
        "            images, labels = images, labels.numpy()\n",
        "\n",
        "            preds, probs = images_to_probs(net, images)\n",
        "\n",
        "            total += len(labels)\n",
        "            correct += (preds == labels).sum()\n",
        "    return correct/total * 100\n",
        "\n",
        "from tqdm.notebook import tqdm\n",
        "\n",
        "def train(net, loss_fn, opt, dataloader, epochs):\n",
        "    num_steps = 0\n",
        "    min_loss = 1e+10\n",
        "\n",
        "    for epoch in tqdm(range(1, epochs+1), total=epochs, desc='Training'):\n",
        "        running_loss = []\n",
        "        net.train() # Setting the network to TRAIN mode\n",
        "        for images, labels in dataloader:\n",
        "            images, labels = images, labels\n",
        "            num_steps += 1\n",
        "\n",
        "            # FP\n",
        "            outs = net(images)\n",
        "            loss = loss_fn(outs, labels)\n",
        "\n",
        "            # Logging the loss value\n",
        "            running_loss.append(loss.item())\n",
        "\n",
        "            # BP\n",
        "            opt.zero_grad()\n",
        "            loss.backward()\n",
        "            opt.step()\n",
        "\n",
        "            # Clearing the RAM\n",
        "            #del images, labels, outs\n",
        "            #torch.device('cpu').empty_cache()\n",
        "        \n",
        "        epoch_loss = sum(running_loss) / len(running_loss)\n",
        "        acc = evaluate(net, dataloader)\n",
        "        print(\"Accuracy: \",acc)\n",
        "        print(\"loss: \",epoch_loss)\n",
        "        # Model Checkpointing\n",
        "        if epoch_loss < min_loss:\n",
        "            min_loss = epoch_loss\n",
        "            bestmodel = net.state_dict()\n",
        "    #torch.save(bestmodel,'{0}_{1:0.4f}.pth'.format('classifier',min_loss))\n",
        "    return None\n",
        "\n",
        "    print('Training finished!!!')"
      ],
      "execution_count": null,
      "outputs": []
    },
    {
      "cell_type": "code",
      "metadata": {
        "id": "ibbaSGkXuPTv",
        "outputId": "a13f2e81-9991-492d-91b8-9ee48653e6e8",
        "colab": {
          "base_uri": "https://localhost:8080/",
          "height": 290,
          "referenced_widgets": [
            "139f607a92aa4d01b2df97a6e0d4c040",
            "cffb2d08b20e46889f07885918bd4e0f",
            "4a41549759784b03904db0200cee1c1f",
            "8e8c4b2058434cb58b9c68ddd243fd3c",
            "fff19bd5aa14454fac58cd62b34ca8db",
            "d0ddbd0b882d49a587aeebf01407654f",
            "156b7845df5e47069218a05c970a41bd",
            "5e08d28b7a90415abf2411ab9e8ea565"
          ]
        }
      },
      "source": [
        "train(net, criterion, optimizer, train_loader, 2)"
      ],
      "execution_count": null,
      "outputs": [
        {
          "output_type": "display_data",
          "data": {
            "application/vnd.jupyter.widget-view+json": {
              "model_id": "139f607a92aa4d01b2df97a6e0d4c040",
              "version_minor": 0,
              "version_major": 2
            },
            "text/plain": [
              "HBox(children=(FloatProgress(value=0.0, description='Training', max=2.0, style=ProgressStyle(description_width…"
            ]
          },
          "metadata": {
            "tags": []
          }
        },
        {
          "output_type": "stream",
          "text": [
            "/usr/local/lib/python3.6/dist-packages/PIL/Image.py:932: UserWarning: Palette images with Transparency expressed in bytes should be converted to RGBA images\n",
            "  \"Palette images with Transparency expressed in bytes should be \"\n",
            "/usr/local/lib/python3.6/dist-packages/PIL/Image.py:932: UserWarning: Palette images with Transparency expressed in bytes should be converted to RGBA images\n",
            "  \"Palette images with Transparency expressed in bytes should be \"\n"
          ],
          "name": "stderr"
        },
        {
          "output_type": "stream",
          "text": [
            "Accuracy:  88.61666666666666\n",
            "loss:  0.6118450479296347\n"
          ],
          "name": "stdout"
        },
        {
          "output_type": "stream",
          "text": [
            "/usr/local/lib/python3.6/dist-packages/PIL/Image.py:932: UserWarning: Palette images with Transparency expressed in bytes should be converted to RGBA images\n",
            "  \"Palette images with Transparency expressed in bytes should be \"\n",
            "/usr/local/lib/python3.6/dist-packages/PIL/Image.py:932: UserWarning: Palette images with Transparency expressed in bytes should be converted to RGBA images\n",
            "  \"Palette images with Transparency expressed in bytes should be \"\n"
          ],
          "name": "stderr"
        },
        {
          "output_type": "stream",
          "text": [
            "Accuracy:  89.58333333333334\n",
            "loss:  0.2868774571012085\n",
            "\n"
          ],
          "name": "stdout"
        }
      ]
    },
    {
      "cell_type": "markdown",
      "metadata": {
        "id": "JosOlrw4Ca4c"
      },
      "source": [
        "# Testing Network"
      ]
    },
    {
      "cell_type": "code",
      "metadata": {
        "id": "_f4Uz0SUuRm4"
      },
      "source": [
        "testimg, testlab = next(iter(val_loader))\n",
        "testimg, testlab = testimg, testlab\n",
        "\n",
        "pred = net(testimg)\n",
        "predlab = torch.argmax(pred,axis=1)"
      ],
      "execution_count": null,
      "outputs": []
    },
    {
      "cell_type": "markdown",
      "metadata": {
        "id": "z7F054tXChuf"
      },
      "source": [
        "# Prediction \n"
      ]
    },
    {
      "cell_type": "code",
      "metadata": {
        "id": "TRsSgjxguUz4",
        "outputId": "65b12137-4921-4176-b152-3c7fda252245",
        "colab": {
          "base_uri": "https://localhost:8080/"
        }
      },
      "source": [
        "print(\"Predicted\",[i for i in predlab])\n",
        "print(\"Actual\",[i for i in testlab])\n",
        "for i in predlab:\n",
        "  if i == 0:\n",
        "    print(\"without_mask\")\n",
        "  else:\n",
        "    print(\"with_mask\")\n",
        "print(\"______________________________________________________________________________________________________________\")\n",
        "for i in testlab:\n",
        "  if i == 0:\n",
        "    print(\"without_mask\")\n",
        "  else:\n",
        "    print(\"with_mask\")"
      ],
      "execution_count": null,
      "outputs": [
        {
          "output_type": "stream",
          "text": [
            "Predicted [tensor(0), tensor(1), tensor(0), tensor(1)]\n",
            "Actual [tensor(0), tensor(1), tensor(0), tensor(1)]\n",
            "without_mask\n",
            "with_mask\n",
            "without_mask\n",
            "with_mask\n",
            "______________________________________________________________________________________________________________\n",
            "without_mask\n",
            "with_mask\n",
            "without_mask\n",
            "with_mask\n"
          ],
          "name": "stdout"
        }
      ]
    },
    {
      "cell_type": "markdown",
      "metadata": {
        "id": "XTbun3w6Cl6I"
      },
      "source": [
        "# Confusion Matrix"
      ]
    },
    {
      "cell_type": "code",
      "metadata": {
        "id": "QdQUEphVuZri",
        "outputId": "44155fc0-cc25-4019-c7da-8f4551f5079a",
        "colab": {
          "base_uri": "https://localhost:8080/"
        }
      },
      "source": [
        "predlab = predlab.to(torch.device('cpu'))\n",
        "testlab = testlab.to(torch.device('cpu'))\n",
        "pred = predlab.numpy()\n",
        "test = testlab.numpy()\n",
        "matrix = confusion_matrix(test,pred)\n",
        "print(matrix)"
      ],
      "execution_count": null,
      "outputs": [
        {
          "output_type": "stream",
          "text": [
            "[[2 0]\n",
            " [0 2]]\n"
          ],
          "name": "stdout"
        }
      ]
    },
    {
      "cell_type": "markdown",
      "metadata": {
        "id": "KgU3RnHVCsDI"
      },
      "source": [
        "# Classification Report"
      ]
    },
    {
      "cell_type": "code",
      "metadata": {
        "id": "K7fn-Y5hucwf",
        "outputId": "6a607a91-6ded-4303-ab14-abea380e44d3",
        "colab": {
          "base_uri": "https://localhost:8080/"
        }
      },
      "source": [
        "report = classification_report(test, pred, target_names=['with_mask','without_mask'])\n",
        "print(report)  "
      ],
      "execution_count": null,
      "outputs": [
        {
          "output_type": "stream",
          "text": [
            "              precision    recall  f1-score   support\n",
            "\n",
            "   with_mask       1.00      1.00      1.00         2\n",
            "without_mask       1.00      1.00      1.00         2\n",
            "\n",
            "    accuracy                           1.00         4\n",
            "   macro avg       1.00      1.00      1.00         4\n",
            "weighted avg       1.00      1.00      1.00         4\n",
            "\n"
          ],
          "name": "stdout"
        }
      ]
    },
    {
      "cell_type": "markdown",
      "metadata": {
        "id": "W54n5NJHFBzS"
      },
      "source": [
        "# Convolutional Neural Network Architecture and model training"
      ]
    },
    {
      "cell_type": "code",
      "metadata": {
        "id": "p6G_nY-jO2BZ"
      },
      "source": [
        "#requires modifications as per the image pixel and the number of labels\n",
        "class CNN(nn.Module):\n",
        "\n",
        "  def __init__(self):\n",
        "    super(CNN, self).__init__()\n",
        "    sef.conv_layer = nn. Sequential(\n",
        "        nn.Conv2d(in_channels=3, out_channels=32, kernel_size=3, padding=1),\n",
        "        nn.BatchNorm2d(32),\n",
        "        nn.LeakyReLU(inplace=True),\n",
        "        nn.Conv2d(in_channels=32, out_channels=32, kernel_size=3, padding=1),\n",
        "        nn.BatchNorm2d(32),\n",
        "        nn.LeakyReLU(inplace=True),\n",
        "        nn.MaxPool2d(kernel_size=2, stride=2),\n",
        "\n",
        "        nn.Conv2d(in_channels=32, out_channels=64, kernel_size=3, padding=1),\n",
        "        nn.BatchNorm2d(64),\n",
        "        nn.LeakyReLU(inplace=True),\n",
        "        nn.Conv2d(in_channels=64, out_channels=64, kernel_size=3, padding=1),\n",
        "        nn.BatchNorm2d(64),\n",
        "        nn.LeakyReLU(inplace=True),\n",
        "        nn.MaxPool2d(kernel_size=2, stride=2),\n",
        "    )\n",
        "\n",
        "    self.fc_layer = nn.Sequential(\n",
        "        nn.Dropout(p=0.1),\n",
        "        nn.Linear(8 * 8 * 64, 1000),\n",
        "        nn.ReLU(inplace=True),\n",
        "        nn.Linear(1000, 512),\n",
        "        nn.ReLU(inplace=True),\n",
        "        nn.Dropout(p=0.1),\n",
        "        nn.Linear(512, 3)\n",
        "    )\n",
        "\n",
        "  def forward(self, x):\n",
        "    #convoltional layers\n",
        "    x = self.conv_layer(x)\n",
        "\n",
        "    #flatten the layers\n",
        "    x = x.view(x.size(0), -1)\n",
        "\n",
        "    #fc layer\n",
        "    x = self.fc_layer(x)\n",
        "\n",
        "    return x"
      ],
      "execution_count": null,
      "outputs": []
    },
    {
      "cell_type": "markdown",
      "metadata": {
        "id": "vXvqoLZrWtFU"
      },
      "source": [
        "Hyper-paramaters definition"
      ]
    },
    {
      "cell_type": "code",
      "metadata": {
        "id": "LFhiVbVkWqxu"
      },
      "source": [
        "num_epochs = 10\n",
        "num_classes = 3\n",
        "learning_rate = 0.001"
      ],
      "execution_count": null,
      "outputs": []
    },
    {
      "cell_type": "code",
      "metadata": {
        "id": "SEKz4YDNXFPw"
      },
      "source": [
        "model = CNN()\n",
        "criterian = nn.CrossEntropyLoss()\n",
        "optimizer = torch.optim.Adam(model.parameters(), lr=learning_rate)"
      ],
      "execution_count": null,
      "outputs": []
    },
    {
      "cell_type": "markdown",
      "metadata": {
        "id": "MhXK9Oe-VlIJ"
      },
      "source": [
        "# Convolutional Neural Network Model Evaluation"
      ]
    }
  ]
}